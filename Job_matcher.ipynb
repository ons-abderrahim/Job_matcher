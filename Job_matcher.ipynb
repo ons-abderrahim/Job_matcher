{
  "nbformat": 4,
  "nbformat_minor": 0,
  "metadata": {
    "colab": {
      "provenance": []
    },
    "kernelspec": {
      "name": "python3",
      "display_name": "Python 3"
    },
    "language_info": {
      "name": "python"
    }
  },
  "cells": [
    {
      "cell_type": "markdown",
      "source": [
        "#Importing libraries"
      ],
      "metadata": {
        "id": "-T_iBRubFX4G"
      }
    },
    {
      "cell_type": "code",
      "source": [
        "from sklearn.feature_extraction.text import CountVectorizer\n",
        "from sklearn.metrics.pairwise import cosine_similarity"
      ],
      "metadata": {
        "id": "iQePlH4SFRjL"
      },
      "execution_count": 1,
      "outputs": []
    },
    {
      "cell_type": "markdown",
      "source": [
        "#Uploading the resume and the job description (.txt)\n"
      ],
      "metadata": {
        "id": "VpWNfNOnFgjj"
      }
    },
    {
      "cell_type": "code",
      "execution_count": null,
      "metadata": {
        "id": "ZjxDO6qYBY7u"
      },
      "outputs": [],
      "source": [
        "print(\"please enter\")\n",
        "resume = \"/content/ResumeExample.txt\"\n",
        "job_description = \"/content/JobOfferDS.txt\""
      ]
    },
    {
      "cell_type": "markdown",
      "source": [
        "#Creating a list of text\n"
      ],
      "metadata": {
        "id": "XQAKlx--FlJj"
      }
    },
    {
      "cell_type": "code",
      "source": [
        "text = [resume, job_description]"
      ],
      "metadata": {
        "id": "Y9wtrxm3Bbx_"
      },
      "execution_count": null,
      "outputs": []
    },
    {
      "cell_type": "markdown",
      "source": [
        "#Calculating the similarity scores"
      ],
      "metadata": {
        "id": "Lxmg3g32Fv0n"
      }
    },
    {
      "cell_type": "code",
      "source": [
        "cv = CountVectorizer()\n",
        "count_matrix=cv.fit_transform(text)"
      ],
      "metadata": {
        "id": "70BVj3R5Bee1"
      },
      "execution_count": null,
      "outputs": []
    },
    {
      "cell_type": "code",
      "source": [
        "print(\"\\nSimilarity Scores:\")\n",
        "print(cosine_similarity(count_matrix))"
      ],
      "metadata": {
        "id": "xflJ-diyBh0X"
      },
      "execution_count": null,
      "outputs": []
    },
    {
      "cell_type": "markdown",
      "source": [
        "#Getting the match percentage\n"
      ],
      "metadata": {
        "id": "lEPJSK6NF8FS"
      }
    },
    {
      "cell_type": "code",
      "source": [
        "matchPercentage=cosine_similarity(count_matrix)[0][1]*100\n",
        "matchPercentage= round(matchPercentage, 2)#round to two decimal places"
      ],
      "metadata": {
        "id": "Notzh_mXBpEw"
      },
      "execution_count": null,
      "outputs": []
    },
    {
      "cell_type": "code",
      "source": [
        "if matchPercentage >= 70 :\n",
        "  print(\"your Resume matches the job description about\"+str(matchPercentage)+\"% .\")"
      ],
      "metadata": {
        "id": "bAZfTdneBpv-"
      },
      "execution_count": null,
      "outputs": []
    }
  ]
}